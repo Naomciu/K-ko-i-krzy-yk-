{
 "cells": [
  {
   "cell_type": "code",
   "execution_count": 4,
   "id": "be523978-f398-4c9f-8374-46c054bb365a",
   "metadata": {},
   "outputs": [
    {
     "ename": "NameError",
     "evalue": "name 'zmienna' is not defined",
     "output_type": "error",
     "traceback": [
      "\u001b[1;31m---------------------------------------------------------------------------\u001b[0m",
      "\u001b[1;31mNameError\u001b[0m                                 Traceback (most recent call last)",
      "Cell \u001b[1;32mIn[4], line 2\u001b[0m\n\u001b[0;32m      1\u001b[0m x \u001b[38;5;241m=\u001b[39m \u001b[38;5;124m\"\u001b[39m\u001b[38;5;124mAmanda\u001b[39m\u001b[38;5;124m\"\u001b[39m\n\u001b[1;32m----> 2\u001b[0m \u001b[38;5;28mprint\u001b[39m(zmienna)\n",
      "\u001b[1;31mNameError\u001b[0m: name 'zmienna' is not defined"
     ]
    }
   ],
   "source": [
    "x = \"Amanda\"\n",
    "print(zmienna)"
   ]
  },
  {
   "cell_type": "code",
   "execution_count": 5,
   "id": "f552fbd4-717a-4afa-92f0-2df2f22335e9",
   "metadata": {},
   "outputs": [
    {
     "name": "stdin",
     "output_type": "stream",
     "text": [
      " dsd\n"
     ]
    }
   ],
   "source": [
    "y = input()"
   ]
  },
  {
   "cell_type": "code",
   "execution_count": 13,
   "id": "93d9127b-9234-4c40-b555-2f45c09306c8",
   "metadata": {},
   "outputs": [
    {
     "data": {
      "text/plain": [
       "'a'"
      ]
     },
     "execution_count": 13,
     "metadata": {},
     "output_type": "execute_result"
    }
   ],
   "source": [
    "y"
   ]
  },
  {
   "cell_type": "code",
   "execution_count": 68,
   "id": "9f49f497-503c-4289-858e-122cefa3fc45",
   "metadata": {},
   "outputs": [],
   "source": [
    "def funkcja():\n",
    "    haslo = input(\"podaj hasło\")\n",
    "    if haslo == \"kociara69\":\n",
    "        print(\"Optimum prime trriri\")\n",
    "        return True \n",
    "    else:\n",
    "        print(\"engine kaput\")\n",
    "        return Falsez"
   ]
  },
  {
   "cell_type": "code",
   "execution_count": 69,
   "id": "b07d3413-dbdc-411e-9a0d-10cf25137cff",
   "metadata": {},
   "outputs": [
    {
     "name": "stdin",
     "output_type": "stream",
     "text": [
      "podaj hasło kociara69\n"
     ]
    },
    {
     "name": "stdout",
     "output_type": "stream",
     "text": [
      "Optimum prime trriri\n",
      "True\n"
     ]
    }
   ],
   "source": [
    "print(funkcja())"
   ]
  },
  {
   "cell_type": "code",
   "execution_count": 25,
   "id": "ea7b96c8-c3f8-413c-ac51-4589f2ba9e67",
   "metadata": {
    "scrolled": true
   },
   "outputs": [
    {
     "name": "stdin",
     "output_type": "stream",
     "text": [
      "podaj hasło gh\n"
     ]
    },
    {
     "name": "stdout",
     "output_type": "stream",
     "text": [
      "engine kaput\n"
     ]
    },
    {
     "name": "stdin",
     "output_type": "stream",
     "text": [
      "podaj hasło gh\n"
     ]
    },
    {
     "name": "stdout",
     "output_type": "stream",
     "text": [
      "engine kaput\n"
     ]
    },
    {
     "name": "stdin",
     "output_type": "stream",
     "text": [
      "podaj hasło dsf\n"
     ]
    },
    {
     "name": "stdout",
     "output_type": "stream",
     "text": [
      "engine kaput\n"
     ]
    },
    {
     "name": "stdin",
     "output_type": "stream",
     "text": [
      "podaj hasło kociara69\n"
     ]
    },
    {
     "name": "stdout",
     "output_type": "stream",
     "text": [
      "Optimum prime trriri\n"
     ]
    }
   ],
   "source": [
    "zmienna2 = False\n",
    "while not zmienna2:\n",
    "    zmienna2 = funkcja()\n",
    "    "
   ]
  },
  {
   "cell_type": "code",
   "execution_count": 2,
   "id": "de69f774-2d4f-4a42-86b0-2ce08a220bb6",
   "metadata": {},
   "outputs": [
    {
     "name": "stdout",
     "output_type": "stream",
     "text": [
      "1\n",
      "2\n",
      "fizz\n",
      "4\n",
      "buzz\n",
      "fizz\n",
      "7\n",
      "8\n",
      "fizz\n",
      "buzz\n"
     ]
    }
   ],
   "source": [
    "fizz = \"fizz\"\n",
    "buzz = \"buzz\"\n",
    "aktualna_liczba = 1\n",
    "while aktualna_liczba < 11:\n",
    "    if not aktualna_liczba % 3:\n",
    "        print(fizz)\n",
    "    elif not aktualna_liczba % 5:\n",
    "        print(buzz)\n",
    "    else: \n",
    "        print(aktualna_liczba)\n",
    "    aktualna_liczba = aktualna_liczba + 1 # lol\n",
    "    \n",
    "    \n"
   ]
  },
  {
   "cell_type": "code",
   "execution_count": 1,
   "id": "5fd19ff8-f649-4d16-b8ec-706ee6e1184f",
   "metadata": {},
   "outputs": [],
   "source": [
    "# huyhuy"
   ]
  },
  {
   "cell_type": "code",
   "execution_count": 14,
   "id": "4f40cd7e-49d8-451b-a4ad-688f57fe926c",
   "metadata": {},
   "outputs": [],
   "source": [
    "lista = ['a', 'b', 'c', 'd', 'e', 'f']"
   ]
  },
  {
   "cell_type": "code",
   "execution_count": 15,
   "id": "5f5cc86c-96b8-4aa1-89bd-5cf66025f10f",
   "metadata": {},
   "outputs": [
    {
     "data": {
      "text/plain": [
       "['a', 'b', 'c', 'd', 'e', 'f']"
      ]
     },
     "execution_count": 15,
     "metadata": {},
     "output_type": "execute_result"
    }
   ],
   "source": [
    "lista"
   ]
  },
  {
   "cell_type": "code",
   "execution_count": 16,
   "id": "467b2870-a868-4f27-a4aa-d444361c7bf7",
   "metadata": {},
   "outputs": [
    {
     "data": {
      "text/plain": [
       "'c'"
      ]
     },
     "execution_count": 16,
     "metadata": {},
     "output_type": "execute_result"
    }
   ],
   "source": [
    "lista[2]"
   ]
  },
  {
   "cell_type": "code",
   "execution_count": 44,
   "id": "529867bc-9a91-4b9f-b235-56259b870de9",
   "metadata": {},
   "outputs": [
    {
     "data": {
      "text/plain": [
       "['a', 'c', 'e']"
      ]
     },
     "execution_count": 44,
     "metadata": {},
     "output_type": "execute_result"
    }
   ],
   "source": [
    "lista[::2]"
   ]
  },
  {
   "cell_type": "code",
   "execution_count": 19,
   "id": "e85fe7d8-d252-4013-9836-d773f1431806",
   "metadata": {},
   "outputs": [
    {
     "data": {
      "text/plain": [
       "'f'"
      ]
     },
     "execution_count": 19,
     "metadata": {},
     "output_type": "execute_result"
    }
   ],
   "source": [
    "lista[-1]"
   ]
  },
  {
   "cell_type": "code",
   "execution_count": 30,
   "id": "ec116308-9ae0-4b06-8563-61543ccd7cc0",
   "metadata": {},
   "outputs": [
    {
     "data": {
      "text/plain": [
       "['f', 'e', 'd']"
      ]
     },
     "execution_count": 30,
     "metadata": {},
     "output_type": "execute_result"
    }
   ],
   "source": [
    "lista[5:2:-1]"
   ]
  },
  {
   "cell_type": "code",
   "execution_count": 31,
   "id": "c354cffa-69ff-4c54-a60f-3594198a055c",
   "metadata": {},
   "outputs": [
    {
     "data": {
      "text/plain": [
       "['a', 'b', 'c']"
      ]
     },
     "execution_count": 31,
     "metadata": {},
     "output_type": "execute_result"
    }
   ],
   "source": [
    "lista[:3]"
   ]
  },
  {
   "cell_type": "code",
   "execution_count": 32,
   "id": "1210c44e-2a09-47b1-82fd-965e645fb6f1",
   "metadata": {},
   "outputs": [
    {
     "data": {
      "text/plain": [
       "['e', 'f']"
      ]
     },
     "execution_count": 32,
     "metadata": {},
     "output_type": "execute_result"
    }
   ],
   "source": [
    "lista[-2:]"
   ]
  },
  {
   "cell_type": "code",
   "execution_count": 33,
   "id": "6f7e0d75-676d-40a8-8c73-fea06d1b2c42",
   "metadata": {},
   "outputs": [
    {
     "data": {
      "text/plain": [
       "['a', 'c', 'e']"
      ]
     },
     "execution_count": 33,
     "metadata": {},
     "output_type": "execute_result"
    }
   ],
   "source": [
    "lista[::2]"
   ]
  },
  {
   "cell_type": "code",
   "execution_count": 43,
   "id": "7f30d62d-e715-4f5f-a3db-791ce4015322",
   "metadata": {},
   "outputs": [
    {
     "data": {
      "text/plain": [
       "['f', 'a']"
      ]
     },
     "execution_count": 43,
     "metadata": {},
     "output_type": "execute_result"
    }
   ],
   "source": [
    "lista[-1:-7:-5] #sliceing slice"
   ]
  },
  {
   "cell_type": "code",
   "execution_count": 46,
   "id": "af4dfd00-dff5-41cc-bfe6-e98a0ea2e3cd",
   "metadata": {},
   "outputs": [],
   "source": [
    "lista = [\"Amanda\", \"Witoń\"]\n",
    "listy = [\"Imię: \", \"Nazwisko: \"]"
   ]
  },
  {
   "cell_type": "code",
   "execution_count": 47,
   "id": "d6dcdb49-bd02-49ab-8f88-3d19e7a02385",
   "metadata": {},
   "outputs": [
    {
     "data": {
      "text/plain": [
       "['Amanda', 'Witoń', 'Imię: ', 'Nazwisko: ']"
      ]
     },
     "execution_count": 47,
     "metadata": {},
     "output_type": "execute_result"
    }
   ],
   "source": [
    "lista + listy"
   ]
  },
  {
   "cell_type": "code",
   "execution_count": 48,
   "id": "b5731977-d9d9-4e05-ba53-c13aa65e4a32",
   "metadata": {},
   "outputs": [
    {
     "data": {
      "text/plain": [
       "['Imię: ', 'Nazwisko: ', 'Amanda', 'Witoń']"
      ]
     },
     "execution_count": 48,
     "metadata": {},
     "output_type": "execute_result"
    }
   ],
   "source": [
    "listy + lista\n",
    "\n"
   ]
  },
  {
   "cell_type": "code",
   "execution_count": 49,
   "id": "f95e91b4-44d5-4731-ac77-57c1e2b11ce3",
   "metadata": {},
   "outputs": [
    {
     "data": {
      "text/plain": [
       "'AmandaNazwisko: '"
      ]
     },
     "execution_count": 49,
     "metadata": {},
     "output_type": "execute_result"
    }
   ],
   "source": [
    "lista[0] + listy[1]"
   ]
  },
  {
   "cell_type": "code",
   "execution_count": 50,
   "id": "491b7833-066d-4aa8-b7b9-768ae2b40a4b",
   "metadata": {},
   "outputs": [
    {
     "data": {
      "text/plain": [
       "'Imię: Amanda'"
      ]
     },
     "execution_count": 50,
     "metadata": {},
     "output_type": "execute_result"
    }
   ],
   "source": [
    "listy[0] + lista[0]\n"
   ]
  },
  {
   "cell_type": "code",
   "execution_count": 51,
   "id": "a3a47575-84cd-47a4-a9a7-183a5c24acab",
   "metadata": {},
   "outputs": [
    {
     "data": {
      "text/plain": [
       "<function list.append(object, /)>"
      ]
     },
     "execution_count": 51,
     "metadata": {},
     "output_type": "execute_result"
    }
   ],
   "source": [
    "lista.append"
   ]
  },
  {
   "cell_type": "code",
   "execution_count": 52,
   "id": "3dda1297-84ef-4001-8fcb-d4200ada4399",
   "metadata": {},
   "outputs": [],
   "source": [
    "lista.append(\"pies\")"
   ]
  },
  {
   "cell_type": "code",
   "execution_count": 53,
   "id": "9b60e5d2-f227-4586-b577-8a3a7b9b5871",
   "metadata": {},
   "outputs": [
    {
     "data": {
      "text/plain": [
       "['Amanda', 'Witoń', 'pies']"
      ]
     },
     "execution_count": 53,
     "metadata": {},
     "output_type": "execute_result"
    }
   ],
   "source": [
    "lista"
   ]
  },
  {
   "cell_type": "code",
   "execution_count": null,
   "id": "4236acf8-eec2-4ad3-929b-15f23b9cd855",
   "metadata": {},
   "outputs": [],
   "source": []
  },
  {
   "cell_type": "code",
   "execution_count": 55,
   "id": "8d917454-7858-4db1-aa91-4c8de2727e7c",
   "metadata": {},
   "outputs": [
    {
     "data": {
      "text/plain": [
       "<function list.pop(index=-1, /)>"
      ]
     },
     "execution_count": 55,
     "metadata": {},
     "output_type": "execute_result"
    }
   ],
   "source": [
    "lista.pop\n",
    "\n"
   ]
  },
  {
   "cell_type": "code",
   "execution_count": 56,
   "id": "c5e4e54a-4cb3-475c-bc78-e3c641d45f85",
   "metadata": {},
   "outputs": [
    {
     "data": {
      "text/plain": [
       "'pies'"
      ]
     },
     "execution_count": 56,
     "metadata": {},
     "output_type": "execute_result"
    }
   ],
   "source": [
    "lista.pop()"
   ]
  },
  {
   "cell_type": "code",
   "execution_count": null,
   "id": "ae9d8cb8-5c57-4c57-abcc-0de19a1de8bd",
   "metadata": {
    "scrolled": true
   },
   "outputs": [
    {
     "name": "stdin",
     "output_type": "stream",
     "text": [
      "Podaj wiersz:  1\n",
      "Podaj kolumne:  2\n"
     ]
    },
    {
     "name": "stdout",
     "output_type": "stream",
     "text": [
      "   | O |   \n",
      "------------\n",
      "   |   |   \n",
      "------------\n",
      "   |   |   \n"
     ]
    },
    {
     "name": "stdin",
     "output_type": "stream",
     "text": [
      "Podaj wiersz:  2\n",
      "Podaj kolumne:  2\n"
     ]
    },
    {
     "name": "stdout",
     "output_type": "stream",
     "text": [
      "   | O |   \n",
      "------------\n",
      "   | X |   \n",
      "------------\n",
      "   |   |   \n"
     ]
    },
    {
     "name": "stdin",
     "output_type": "stream",
     "text": [
      "Podaj wiersz:  1\n",
      "Podaj kolumne:  3\n"
     ]
    },
    {
     "name": "stdout",
     "output_type": "stream",
     "text": [
      "   | O | O \n",
      "------------\n",
      "   | X |   \n",
      "------------\n",
      "   |   |   \n"
     ]
    },
    {
     "name": "stdin",
     "output_type": "stream",
     "text": [
      "Podaj wiersz:  11\n"
     ]
    }
   ],
   "source": [
    "Lista_poziomo_1 = ['   ', '   ', '   ']\n",
    "Lista_poziomo_2 = ['   ', '   ', '   ']\n",
    "Lista_poziomo_3 = ['   ', '   ', '   ']\n",
    "lista = [Lista_poziomo_1, Lista_poziomo_2, Lista_poziomo_3]\n",
    "krzyzyk = \" X \"\n",
    "kolko = \" O \"\n",
    "Czy_kółko = True\n",
    "while True: #PĘTLA GRY DO KOŃCA!!!!\n",
    "    wiersz = int(input(\"Podaj wiersz: \")) - 1\n",
    "    kolumna = int(input(\"Podaj kolumne: \")) - 1\n",
    "\n",
    "    lista[wiersz][kolumna] = (kolko if Czy_kółko else krzyzyk)\n",
    "    Czy_kółko = not Czy_kółko\n",
    "\n",
    "    do_wyświetlenia = \"\"\n",
    "    for poziom in lista:\n",
    "        for element in poziom:\n",
    "            do_wyświetlenia = do_wyświetlenia + element + '|'\n",
    "        do_wyświetlenia = do_wyświetlenia[:-1] + '\\n------------\\n'\n",
    "    do_wyświetlenia = do_wyświetlenia[:-14] \n",
    "        \n",
    "    print(do_wyświetlenia)\n",
    "    if Czy_wygrana(lista):\n",
    "        print(\"Wygrana\")\n",
    "        break\n",
    "\n",
    "    gaca = True\n",
    "    for i in lista:\n",
    "        for j in i:\n",
    "            if j == '   ':\n",
    "                gaca = False\n",
    "    if gaca:\n",
    "        print(\"Nierozegrane\")\n",
    "        break\n",
    "    "
   ]
  },
  {
   "cell_type": "code",
   "execution_count": 115,
   "id": "28da7a29-4ef6-4f67-b059-9cdfa779e564",
   "metadata": {},
   "outputs": [],
   "source": [
    "def Czy_wygrana(lista: list[list]) -> bool:\n",
    "    for wiersz in lista:\n",
    "        if wiersz[0] == wiersz[1] == wiersz[2] !=\"   \":\n",
    "            return True\n",
    "    for kolumna in range(3):\n",
    "        if lista[0][kolumna] == lista[1][kolumna] == lista[2][kolumna] != '   ':\n",
    "            return True\n",
    "    if lista[0][0] == lista[1][1] == lista[2][2] != '   ':\n",
    "        return True\n",
    "    if lista[0][2] == lista[1][1] == lista[2][0] != '   ':\n",
    "        return True\n",
    "    return False\n",
    "        "
   ]
  },
  {
   "cell_type": "code",
   "execution_count": null,
   "id": "32a5cb7b-b421-4a14-a776-cddd62fdaa90",
   "metadata": {},
   "outputs": [],
   "source": [
    "lista"
   ]
  },
  {
   "cell_type": "code",
   "execution_count": null,
   "id": "4ecf5c7c-9b47-4334-b1ad-4f51d4e55648",
   "metadata": {},
   "outputs": [],
   "source": []
  }
 ],
 "metadata": {
  "kernelspec": {
   "display_name": "Python 3 (ipykernel)",
   "language": "python",
   "name": "python3"
  },
  "language_info": {
   "codemirror_mode": {
    "name": "ipython",
    "version": 3
   },
   "file_extension": ".py",
   "mimetype": "text/x-python",
   "name": "python",
   "nbconvert_exporter": "python",
   "pygments_lexer": "ipython3",
   "version": "3.12.4"
  }
 },
 "nbformat": 4,
 "nbformat_minor": 5
}
