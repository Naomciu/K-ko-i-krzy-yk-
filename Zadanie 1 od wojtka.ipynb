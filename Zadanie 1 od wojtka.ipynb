{
 "cells": [
  {
   "cell_type": "code",
   "execution_count": 11,
   "metadata": {},
   "outputs": [
    {
     "name": "stdout",
     "output_type": "stream",
     "text": [
      "32\n"
     ]
    }
   ],
   "source": [
    "słowa = input(\"Podaj zdanie.\")\n",
    "\"\"\"Ta zmienna zajmuje sie podane zdanie\"\"\"\n",
    "lista_słów= słowa.split()\n",
    "długość_najdłuższego_słowa = 0\n",
    "for słowo in lista_słów :\n",
    "    długość_najdłuższego_słowa = max(len(słowo), długość_najdłuższego_słowa)\n",
    "print(długość_najdłuższego_słowa)\n",
    "\n"
   ]
  },
  {
   "cell_type": "code",
   "execution_count": null,
   "metadata": {},
   "outputs": [],
   "source": [
    "słowa"
   ]
  }
 ],
 "metadata": {
  "kernelspec": {
   "display_name": "Python 3",
   "language": "python",
   "name": "python3"
  },
  "language_info": {
   "codemirror_mode": {
    "name": "ipython",
    "version": 3
   },
   "file_extension": ".py",
   "mimetype": "text/x-python",
   "name": "python",
   "nbconvert_exporter": "python",
   "pygments_lexer": "ipython3",
   "version": "3.12.4"
  }
 },
 "nbformat": 4,
 "nbformat_minor": 2
}
